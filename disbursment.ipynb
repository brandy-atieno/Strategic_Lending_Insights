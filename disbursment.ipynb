{
 "cells": [
  {
   "cell_type": "code",
   "execution_count": 1,
   "id": "d6678fca-4470-48f9-9ea1-251e221ce364",
   "metadata": {},
   "outputs": [],
   "source": [
    "#IMPORT LIBRARIES\n",
    "import pandas as pd\n",
    "\n"
   ]
  },
  {
   "cell_type": "code",
   "execution_count": 4,
   "id": "058cdd38-269f-4fe5-8cf7-af49e13ebb0a",
   "metadata": {},
   "outputs": [
    {
     "data": {
      "text/html": [
       "<div>\n",
       "<style scoped>\n",
       "    .dataframe tbody tr th:only-of-type {\n",
       "        vertical-align: middle;\n",
       "    }\n",
       "\n",
       "    .dataframe tbody tr th {\n",
       "        vertical-align: top;\n",
       "    }\n",
       "\n",
       "    .dataframe thead th {\n",
       "        text-align: right;\n",
       "    }\n",
       "</style>\n",
       "<table border=\"1\" class=\"dataframe\">\n",
       "  <thead>\n",
       "    <tr style=\"text-align: right;\">\n",
       "      <th></th>\n",
       "      <th>customer_id</th>\n",
       "      <th>disb_date</th>\n",
       "      <th>tenure</th>\n",
       "      <th>account_num</th>\n",
       "      <th>loan_amount</th>\n",
       "      <th>loan_fee</th>\n",
       "    </tr>\n",
       "  </thead>\n",
       "  <tbody>\n",
       "    <tr>\n",
       "      <th>0</th>\n",
       "      <td>91810ca1aa097db79f050f38e9946fa5482b4e28c925e2...</td>\n",
       "      <td>2024-03-19</td>\n",
       "      <td>14 days</td>\n",
       "      <td>3O66YENWELA6E2H1R9YLX0LDZNOMNHD4</td>\n",
       "      <td>360</td>\n",
       "      <td>43.2</td>\n",
       "    </tr>\n",
       "    <tr>\n",
       "      <th>1</th>\n",
       "      <td>42ca06e6fe1ff9803e82a5c20184671b54090e488f78d6...</td>\n",
       "      <td>2024-03-19</td>\n",
       "      <td>7 days</td>\n",
       "      <td>6XWHXKKR1W2HIA8I0V75PZFZBXUUGSVO</td>\n",
       "      <td>70</td>\n",
       "      <td>7.0</td>\n",
       "    </tr>\n",
       "    <tr>\n",
       "      <th>2</th>\n",
       "      <td>b23747f53af805e18ad16a4ef235b6642d88f9134644ff...</td>\n",
       "      <td>2024-03-19</td>\n",
       "      <td>7 days</td>\n",
       "      <td>OCGK3RJZ91A999VXD4VB3LATPSME3J5L</td>\n",
       "      <td>3500</td>\n",
       "      <td>350.0</td>\n",
       "    </tr>\n",
       "    <tr>\n",
       "      <th>3</th>\n",
       "      <td>1bd32f9b083fc6ddfffd65730fbfa66654fa76a19b0b0e...</td>\n",
       "      <td>2024-03-19</td>\n",
       "      <td>14 days</td>\n",
       "      <td>9X3Q682DOR7927IMMJLFHBGP0RP7YF5C</td>\n",
       "      <td>3500</td>\n",
       "      <td>420.0</td>\n",
       "    </tr>\n",
       "  </tbody>\n",
       "</table>\n",
       "</div>"
      ],
      "text/plain": [
       "                                         customer_id  disb_date   tenure  \\\n",
       "0  91810ca1aa097db79f050f38e9946fa5482b4e28c925e2... 2024-03-19  14 days   \n",
       "1  42ca06e6fe1ff9803e82a5c20184671b54090e488f78d6... 2024-03-19   7 days   \n",
       "2  b23747f53af805e18ad16a4ef235b6642d88f9134644ff... 2024-03-19   7 days   \n",
       "3  1bd32f9b083fc6ddfffd65730fbfa66654fa76a19b0b0e... 2024-03-19  14 days   \n",
       "\n",
       "                        account_num  loan_amount  loan_fee  \n",
       "0  3O66YENWELA6E2H1R9YLX0LDZNOMNHD4          360      43.2  \n",
       "1  6XWHXKKR1W2HIA8I0V75PZFZBXUUGSVO           70       7.0  \n",
       "2  OCGK3RJZ91A999VXD4VB3LATPSME3J5L         3500     350.0  \n",
       "3  9X3Q682DOR7927IMMJLFHBGP0RP7YF5C         3500     420.0  "
      ]
     },
     "execution_count": 4,
     "metadata": {},
     "output_type": "execute_result"
    }
   ],
   "source": [
    "#LOAD DATA\n",
    "disbursment_data = pd.read_excel('C:/Users/Brandy Odhiambo/Desktop/Credable/case_study.xlsx')\n",
    "disbursment_data.head(4)"
   ]
  },
  {
   "cell_type": "code",
   "execution_count": 5,
   "id": "7032ab91-bd21-433d-ab95-a907b3e9186f",
   "metadata": {},
   "outputs": [
    {
     "data": {
      "text/plain": [
       "(26585, 6)"
      ]
     },
     "execution_count": 5,
     "metadata": {},
     "output_type": "execute_result"
    }
   ],
   "source": [
    "#CHECK SHAPE \n",
    "disbursment_data.shape\n"
   ]
  },
  {
   "cell_type": "code",
   "execution_count": 6,
   "id": "b1315a18-aec6-4b6e-8765-69d05c5815fa",
   "metadata": {},
   "outputs": [
    {
     "data": {
      "text/plain": [
       "159510"
      ]
     },
     "execution_count": 6,
     "metadata": {},
     "output_type": "execute_result"
    }
   ],
   "source": [
    "#CHECK SIZE\n",
    "disbursment_data.size"
   ]
  },
  {
   "cell_type": "code",
   "execution_count": 7,
   "id": "399ab1a7-38be-452d-b029-a5fe4eafbd1c",
   "metadata": {},
   "outputs": [
    {
     "name": "stdout",
     "output_type": "stream",
     "text": [
      "<class 'pandas.core.frame.DataFrame'>\n",
      "RangeIndex: 26585 entries, 0 to 26584\n",
      "Data columns (total 6 columns):\n",
      " #   Column       Non-Null Count  Dtype         \n",
      "---  ------       --------------  -----         \n",
      " 0   customer_id  26585 non-null  object        \n",
      " 1   disb_date    26585 non-null  datetime64[ns]\n",
      " 2   tenure       26585 non-null  object        \n",
      " 3   account_num  26585 non-null  object        \n",
      " 4   loan_amount  26585 non-null  int64         \n",
      " 5   loan_fee     26585 non-null  float64       \n",
      "dtypes: datetime64[ns](1), float64(1), int64(1), object(3)\n",
      "memory usage: 1.2+ MB\n"
     ]
    }
   ],
   "source": [
    "#CHECK INFO \n",
    "disbursment_data.info()"
   ]
  },
  {
   "cell_type": "code",
   "execution_count": 8,
   "id": "3b1de21c-6f64-400a-a862-05e94e4b185b",
   "metadata": {},
   "outputs": [
    {
     "data": {
      "text/plain": [
       "customer_id    0\n",
       "disb_date      0\n",
       "tenure         0\n",
       "account_num    0\n",
       "loan_amount    0\n",
       "loan_fee       0\n",
       "dtype: int64"
      ]
     },
     "execution_count": 8,
     "metadata": {},
     "output_type": "execute_result"
    }
   ],
   "source": [
    "#CHECK NULL VALUES ,SUM OF NULL VALUES\n",
    "disbursment_data.isnull().sum()"
   ]
  },
  {
   "cell_type": "code",
   "execution_count": 20,
   "id": "a5909ca1-5274-4169-914c-154ccf8b6a3a",
   "metadata": {},
   "outputs": [
    {
     "data": {
      "text/plain": [
       "0"
      ]
     },
     "execution_count": 20,
     "metadata": {},
     "output_type": "execute_result"
    }
   ],
   "source": [
    "#CHECK DUPLICATES,SUM OF DUPLICATES\n",
    "disbursment_data.duplicated().sum()"
   ]
  },
  {
   "cell_type": "code",
   "execution_count": 19,
   "id": "1a7bc515-a36a-4a4d-b1bb-def97cb5493c",
   "metadata": {},
   "outputs": [],
   "source": [
    "#REMOVE DUPLICATES\n",
    "disbursment_data.drop_duplicates(inplace=True)"
   ]
  },
  {
   "cell_type": "code",
   "execution_count": 23,
   "id": "bbc71e4f-49ee-4fde-a909-f3616351a1ea",
   "metadata": {},
   "outputs": [
    {
     "data": {
      "text/html": [
       "<div>\n",
       "<style scoped>\n",
       "    .dataframe tbody tr th:only-of-type {\n",
       "        vertical-align: middle;\n",
       "    }\n",
       "\n",
       "    .dataframe tbody tr th {\n",
       "        vertical-align: top;\n",
       "    }\n",
       "\n",
       "    .dataframe thead th {\n",
       "        text-align: right;\n",
       "    }\n",
       "</style>\n",
       "<table border=\"1\" class=\"dataframe\">\n",
       "  <thead>\n",
       "    <tr style=\"text-align: right;\">\n",
       "      <th></th>\n",
       "      <th>disb_date</th>\n",
       "      <th>loan_amount</th>\n",
       "      <th>loan_fee</th>\n",
       "    </tr>\n",
       "  </thead>\n",
       "  <tbody>\n",
       "    <tr>\n",
       "      <th>count</th>\n",
       "      <td>26585</td>\n",
       "      <td>26585.000000</td>\n",
       "      <td>26585.000000</td>\n",
       "    </tr>\n",
       "    <tr>\n",
       "      <th>mean</th>\n",
       "      <td>2024-04-17 13:54:22.275719680</td>\n",
       "      <td>1001.021403</td>\n",
       "      <td>129.698904</td>\n",
       "    </tr>\n",
       "    <tr>\n",
       "      <th>min</th>\n",
       "      <td>2024-01-01 00:00:00</td>\n",
       "      <td>70.000000</td>\n",
       "      <td>7.000000</td>\n",
       "    </tr>\n",
       "    <tr>\n",
       "      <th>25%</th>\n",
       "      <td>2024-02-25 00:00:00</td>\n",
       "      <td>150.000000</td>\n",
       "      <td>16.800000</td>\n",
       "    </tr>\n",
       "    <tr>\n",
       "      <th>50%</th>\n",
       "      <td>2024-04-15 00:00:00</td>\n",
       "      <td>420.000000</td>\n",
       "      <td>50.000000</td>\n",
       "    </tr>\n",
       "    <tr>\n",
       "      <th>75%</th>\n",
       "      <td>2024-06-08 00:00:00</td>\n",
       "      <td>1460.000000</td>\n",
       "      <td>181.500000</td>\n",
       "    </tr>\n",
       "    <tr>\n",
       "      <th>max</th>\n",
       "      <td>2024-08-11 00:00:00</td>\n",
       "      <td>3500.000000</td>\n",
       "      <td>525.000000</td>\n",
       "    </tr>\n",
       "    <tr>\n",
       "      <th>std</th>\n",
       "      <td>NaN</td>\n",
       "      <td>1171.233304</td>\n",
       "      <td>160.836971</td>\n",
       "    </tr>\n",
       "  </tbody>\n",
       "</table>\n",
       "</div>"
      ],
      "text/plain": [
       "                           disb_date   loan_amount      loan_fee\n",
       "count                          26585  26585.000000  26585.000000\n",
       "mean   2024-04-17 13:54:22.275719680   1001.021403    129.698904\n",
       "min              2024-01-01 00:00:00     70.000000      7.000000\n",
       "25%              2024-02-25 00:00:00    150.000000     16.800000\n",
       "50%              2024-04-15 00:00:00    420.000000     50.000000\n",
       "75%              2024-06-08 00:00:00   1460.000000    181.500000\n",
       "max              2024-08-11 00:00:00   3500.000000    525.000000\n",
       "std                              NaN   1171.233304    160.836971"
      ]
     },
     "execution_count": 23,
     "metadata": {},
     "output_type": "execute_result"
    }
   ],
   "source": [
    "#NUMERIC VALUES\n",
    "disbursment_data.describe()"
   ]
  }
 ],
 "metadata": {
  "kernelspec": {
   "display_name": "Python 3 (ipykernel)",
   "language": "python",
   "name": "python3"
  },
  "language_info": {
   "codemirror_mode": {
    "name": "ipython",
    "version": 3
   },
   "file_extension": ".py",
   "mimetype": "text/x-python",
   "name": "python",
   "nbconvert_exporter": "python",
   "pygments_lexer": "ipython3",
   "version": "3.12.7"
  }
 },
 "nbformat": 4,
 "nbformat_minor": 5
}
